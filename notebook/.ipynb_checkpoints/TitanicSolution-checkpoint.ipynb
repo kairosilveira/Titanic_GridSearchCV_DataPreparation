{
 "cells": [
  {
   "cell_type": "markdown",
   "metadata": {
    "id": "f2XhKF5RF5FB"
   },
   "source": [
    "# Kaggle's [Titanic competition](https://www.kaggle.com/competitions/titanic) solution.\n",
    "\n",
    "Objective: Beat the score of 0.76555 of acurracy in the predictions of who survives the disaster, and do this using GridSearchCV with Pipeline. This score is obtained by assuming that all men die and women survive. \n",
    "\n",
    "Methodology: In order to get a good score I used several data preparation technics, such as imputation, encoders, feature selection, data scale, changes in the distibution and so on, I also tried a few classifications algorithms. In this project you will see the combination of technics tested that resulted in the best peformance.\n",
    "\n"
   ]
  },
  {
   "cell_type": "markdown",
   "metadata": {
    "id": "iLdZngI_OGnX"
   },
   "source": [
    "### 1. Analysing and understanding the data"
   ]
  },
  {
   "cell_type": "code",
   "execution_count": 1,
   "metadata": {
    "id": "9NeJyB4FOF66"
   },
   "outputs": [],
   "source": [
    "import pandas as pd\n",
    "import numpy as np\n",
    "import os"
   ]
  },
  {
   "cell_type": "code",
   "execution_count": 9,
   "metadata": {},
   "outputs": [],
   "source": [
    "project_dir = os.path.dirname( os.path.dirname( os.path.abspath( \"-\" ) ) )\n",
    "data_dir = os.path.join( os.path.join( project_dir, \"original data\" ), \"train.csv\" )"
   ]
  },
  {
   "cell_type": "code",
   "execution_count": 10,
   "metadata": {
    "colab": {
     "base_uri": "https://localhost:8080/",
     "height": 320
    },
    "id": "0Eu4jr0-JVwD",
    "outputId": "5ce09145-7d5e-44d6-a71c-62f76c4dfde0"
   },
   "outputs": [
    {
     "data": {
      "text/html": [
       "<div>\n",
       "<style scoped>\n",
       "    .dataframe tbody tr th:only-of-type {\n",
       "        vertical-align: middle;\n",
       "    }\n",
       "\n",
       "    .dataframe tbody tr th {\n",
       "        vertical-align: top;\n",
       "    }\n",
       "\n",
       "    .dataframe thead th {\n",
       "        text-align: right;\n",
       "    }\n",
       "</style>\n",
       "<table border=\"1\" class=\"dataframe\">\n",
       "  <thead>\n",
       "    <tr style=\"text-align: right;\">\n",
       "      <th></th>\n",
       "      <th>PassengerId</th>\n",
       "      <th>Survived</th>\n",
       "      <th>Pclass</th>\n",
       "      <th>Name</th>\n",
       "      <th>Sex</th>\n",
       "      <th>Age</th>\n",
       "      <th>SibSp</th>\n",
       "      <th>Parch</th>\n",
       "      <th>Ticket</th>\n",
       "      <th>Fare</th>\n",
       "      <th>Cabin</th>\n",
       "      <th>Embarked</th>\n",
       "    </tr>\n",
       "  </thead>\n",
       "  <tbody>\n",
       "    <tr>\n",
       "      <th>0</th>\n",
       "      <td>1</td>\n",
       "      <td>0</td>\n",
       "      <td>3</td>\n",
       "      <td>Braund, Mr. Owen Harris</td>\n",
       "      <td>male</td>\n",
       "      <td>22.0</td>\n",
       "      <td>1</td>\n",
       "      <td>0</td>\n",
       "      <td>A/5 21171</td>\n",
       "      <td>7.2500</td>\n",
       "      <td>NaN</td>\n",
       "      <td>S</td>\n",
       "    </tr>\n",
       "    <tr>\n",
       "      <th>1</th>\n",
       "      <td>2</td>\n",
       "      <td>1</td>\n",
       "      <td>1</td>\n",
       "      <td>Cumings, Mrs. John Bradley (Florence Briggs Th...</td>\n",
       "      <td>female</td>\n",
       "      <td>38.0</td>\n",
       "      <td>1</td>\n",
       "      <td>0</td>\n",
       "      <td>PC 17599</td>\n",
       "      <td>71.2833</td>\n",
       "      <td>C85</td>\n",
       "      <td>C</td>\n",
       "    </tr>\n",
       "    <tr>\n",
       "      <th>2</th>\n",
       "      <td>3</td>\n",
       "      <td>1</td>\n",
       "      <td>3</td>\n",
       "      <td>Heikkinen, Miss. Laina</td>\n",
       "      <td>female</td>\n",
       "      <td>26.0</td>\n",
       "      <td>0</td>\n",
       "      <td>0</td>\n",
       "      <td>STON/O2. 3101282</td>\n",
       "      <td>7.9250</td>\n",
       "      <td>NaN</td>\n",
       "      <td>S</td>\n",
       "    </tr>\n",
       "    <tr>\n",
       "      <th>3</th>\n",
       "      <td>4</td>\n",
       "      <td>1</td>\n",
       "      <td>1</td>\n",
       "      <td>Futrelle, Mrs. Jacques Heath (Lily May Peel)</td>\n",
       "      <td>female</td>\n",
       "      <td>35.0</td>\n",
       "      <td>1</td>\n",
       "      <td>0</td>\n",
       "      <td>113803</td>\n",
       "      <td>53.1000</td>\n",
       "      <td>C123</td>\n",
       "      <td>S</td>\n",
       "    </tr>\n",
       "    <tr>\n",
       "      <th>4</th>\n",
       "      <td>5</td>\n",
       "      <td>0</td>\n",
       "      <td>3</td>\n",
       "      <td>Allen, Mr. William Henry</td>\n",
       "      <td>male</td>\n",
       "      <td>35.0</td>\n",
       "      <td>0</td>\n",
       "      <td>0</td>\n",
       "      <td>373450</td>\n",
       "      <td>8.0500</td>\n",
       "      <td>NaN</td>\n",
       "      <td>S</td>\n",
       "    </tr>\n",
       "  </tbody>\n",
       "</table>\n",
       "</div>"
      ],
      "text/plain": [
       "   PassengerId  Survived  Pclass  \\\n",
       "0            1         0       3   \n",
       "1            2         1       1   \n",
       "2            3         1       3   \n",
       "3            4         1       1   \n",
       "4            5         0       3   \n",
       "\n",
       "                                                Name     Sex   Age  SibSp  \\\n",
       "0                            Braund, Mr. Owen Harris    male  22.0      1   \n",
       "1  Cumings, Mrs. John Bradley (Florence Briggs Th...  female  38.0      1   \n",
       "2                             Heikkinen, Miss. Laina  female  26.0      0   \n",
       "3       Futrelle, Mrs. Jacques Heath (Lily May Peel)  female  35.0      1   \n",
       "4                           Allen, Mr. William Henry    male  35.0      0   \n",
       "\n",
       "   Parch            Ticket     Fare Cabin Embarked  \n",
       "0      0         A/5 21171   7.2500   NaN        S  \n",
       "1      0          PC 17599  71.2833   C85        C  \n",
       "2      0  STON/O2. 3101282   7.9250   NaN        S  \n",
       "3      0            113803  53.1000  C123        S  \n",
       "4      0            373450   8.0500   NaN        S  "
      ]
     },
     "execution_count": 10,
     "metadata": {},
     "output_type": "execute_result"
    }
   ],
   "source": [
    "df = pd.read_csv(data_dir)\n",
    "df.head()"
   ]
  },
  {
   "cell_type": "code",
   "execution_count": 11,
   "metadata": {
    "colab": {
     "base_uri": "https://localhost:8080/"
    },
    "id": "BKRbnlhfVTSg",
    "outputId": "757372a0-374f-4bbd-cf8f-469f92b19a5a"
   },
   "outputs": [
    {
     "data": {
      "text/plain": [
       "PassengerId    891\n",
       "Survived         2\n",
       "Pclass           3\n",
       "Name           891\n",
       "Sex              2\n",
       "Age             88\n",
       "SibSp            7\n",
       "Parch            7\n",
       "Ticket         681\n",
       "Fare           248\n",
       "Cabin          147\n",
       "Embarked         3\n",
       "dtype: int64"
      ]
     },
     "execution_count": 11,
     "metadata": {},
     "output_type": "execute_result"
    }
   ],
   "source": [
    "df.nunique()"
   ]
  },
  {
   "cell_type": "code",
   "execution_count": 12,
   "metadata": {
    "colab": {
     "base_uri": "https://localhost:8080/"
    },
    "id": "pS22RcrfVZGN",
    "outputId": "17371fc4-7cc2-4936-af0e-abc21be46cb8"
   },
   "outputs": [
    {
     "name": "stdout",
     "output_type": "stream",
     "text": [
      "> PassengerId, Missing: 0 (0.0%)\n",
      "> Survived, Missing: 0 (0.0%)\n",
      "> Pclass, Missing: 0 (0.0%)\n",
      "> Name, Missing: 0 (0.0%)\n",
      "> Sex, Missing: 0 (0.0%)\n",
      "> Age, Missing: 177 (19.9%)\n",
      "> SibSp, Missing: 0 (0.0%)\n",
      "> Parch, Missing: 0 (0.0%)\n",
      "> Ticket, Missing: 0 (0.0%)\n",
      "> Fare, Missing: 0 (0.0%)\n",
      "> Cabin, Missing: 687 (77.1%)\n",
      "> Embarked, Missing: 2 (0.2%)\n"
     ]
    }
   ],
   "source": [
    "#looking for missing values\n",
    "for i in df.columns:\n",
    "  # count number of rows with missing values\n",
    "  n_miss = df[[i]].isnull().sum()\n",
    "  perc = n_miss / df.shape[0] * 100\n",
    "  print('> %s, Missing: %d (%.1f%%)' % (i, n_miss, perc))"
   ]
  },
  {
   "cell_type": "markdown",
   "metadata": {
    "id": "lyXv7EjXVlDH"
   },
   "source": [
    "The first conclusion is that we can know for sure that some columns of the dataset are not important to build a model, they are: \n",
    "\n",
    "\n",
    "*   PassengerId\n",
    "*   Name\n",
    "*   Cabin\n",
    "\n",
    "\n",
    "---\n",
    "\n",
    "\n",
    "We can see that there are a lot of missing values in the **Sex** column and 2 missing in the column **Embarked**. I might apply a imputation technique to deal with the **Sex** column, but, since there are only two missing values in the **Embarked** columns I decided to drop the rows with missing values.\n",
    "\n"
   ]
  },
  {
   "cell_type": "code",
   "execution_count": 13,
   "metadata": {
    "id": "DxoxV6l0VkMp"
   },
   "outputs": [],
   "source": [
    "df.dropna(subset=[\"Embarked\"], inplace=True)"
   ]
  },
  {
   "cell_type": "markdown",
   "metadata": {
    "id": "moziO2nAYeOH"
   },
   "source": [
    "\n",
    "\n",
    "---\n",
    "\n",
    "\n",
    "Now let's start a statistical analysis and select only the relevant columns."
   ]
  },
  {
   "cell_type": "code",
   "execution_count": 14,
   "metadata": {
    "colab": {
     "base_uri": "https://localhost:8080/",
     "height": 300
    },
    "id": "KhDXPHwLYdYp",
    "outputId": "93508902-dbee-4036-b2b4-8dfce188e4de"
   },
   "outputs": [
    {
     "data": {
      "text/html": [
       "<div>\n",
       "<style scoped>\n",
       "    .dataframe tbody tr th:only-of-type {\n",
       "        vertical-align: middle;\n",
       "    }\n",
       "\n",
       "    .dataframe tbody tr th {\n",
       "        vertical-align: top;\n",
       "    }\n",
       "\n",
       "    .dataframe thead th {\n",
       "        text-align: right;\n",
       "    }\n",
       "</style>\n",
       "<table border=\"1\" class=\"dataframe\">\n",
       "  <thead>\n",
       "    <tr style=\"text-align: right;\">\n",
       "      <th></th>\n",
       "      <th>PassengerId</th>\n",
       "      <th>Survived</th>\n",
       "      <th>Pclass</th>\n",
       "      <th>Age</th>\n",
       "      <th>SibSp</th>\n",
       "      <th>Parch</th>\n",
       "      <th>Fare</th>\n",
       "    </tr>\n",
       "  </thead>\n",
       "  <tbody>\n",
       "    <tr>\n",
       "      <th>count</th>\n",
       "      <td>889.0</td>\n",
       "      <td>889.00</td>\n",
       "      <td>889.00</td>\n",
       "      <td>712.00</td>\n",
       "      <td>889.00</td>\n",
       "      <td>889.00</td>\n",
       "      <td>889.00</td>\n",
       "    </tr>\n",
       "    <tr>\n",
       "      <th>mean</th>\n",
       "      <td>446.0</td>\n",
       "      <td>0.38</td>\n",
       "      <td>2.31</td>\n",
       "      <td>29.64</td>\n",
       "      <td>0.52</td>\n",
       "      <td>0.38</td>\n",
       "      <td>32.10</td>\n",
       "    </tr>\n",
       "    <tr>\n",
       "      <th>std</th>\n",
       "      <td>257.0</td>\n",
       "      <td>0.49</td>\n",
       "      <td>0.83</td>\n",
       "      <td>14.49</td>\n",
       "      <td>1.10</td>\n",
       "      <td>0.81</td>\n",
       "      <td>49.70</td>\n",
       "    </tr>\n",
       "    <tr>\n",
       "      <th>min</th>\n",
       "      <td>1.0</td>\n",
       "      <td>0.00</td>\n",
       "      <td>1.00</td>\n",
       "      <td>0.42</td>\n",
       "      <td>0.00</td>\n",
       "      <td>0.00</td>\n",
       "      <td>0.00</td>\n",
       "    </tr>\n",
       "    <tr>\n",
       "      <th>25%</th>\n",
       "      <td>224.0</td>\n",
       "      <td>0.00</td>\n",
       "      <td>2.00</td>\n",
       "      <td>20.00</td>\n",
       "      <td>0.00</td>\n",
       "      <td>0.00</td>\n",
       "      <td>7.90</td>\n",
       "    </tr>\n",
       "    <tr>\n",
       "      <th>50%</th>\n",
       "      <td>446.0</td>\n",
       "      <td>0.00</td>\n",
       "      <td>3.00</td>\n",
       "      <td>28.00</td>\n",
       "      <td>0.00</td>\n",
       "      <td>0.00</td>\n",
       "      <td>14.45</td>\n",
       "    </tr>\n",
       "    <tr>\n",
       "      <th>75%</th>\n",
       "      <td>668.0</td>\n",
       "      <td>1.00</td>\n",
       "      <td>3.00</td>\n",
       "      <td>38.00</td>\n",
       "      <td>1.00</td>\n",
       "      <td>0.00</td>\n",
       "      <td>31.00</td>\n",
       "    </tr>\n",
       "    <tr>\n",
       "      <th>max</th>\n",
       "      <td>891.0</td>\n",
       "      <td>1.00</td>\n",
       "      <td>3.00</td>\n",
       "      <td>80.00</td>\n",
       "      <td>8.00</td>\n",
       "      <td>6.00</td>\n",
       "      <td>512.33</td>\n",
       "    </tr>\n",
       "  </tbody>\n",
       "</table>\n",
       "</div>"
      ],
      "text/plain": [
       "       PassengerId  Survived  Pclass     Age   SibSp   Parch    Fare\n",
       "count        889.0    889.00  889.00  712.00  889.00  889.00  889.00\n",
       "mean         446.0      0.38    2.31   29.64    0.52    0.38   32.10\n",
       "std          257.0      0.49    0.83   14.49    1.10    0.81   49.70\n",
       "min            1.0      0.00    1.00    0.42    0.00    0.00    0.00\n",
       "25%          224.0      0.00    2.00   20.00    0.00    0.00    7.90\n",
       "50%          446.0      0.00    3.00   28.00    0.00    0.00   14.45\n",
       "75%          668.0      1.00    3.00   38.00    1.00    0.00   31.00\n",
       "max          891.0      1.00    3.00   80.00    8.00    6.00  512.33"
      ]
     },
     "execution_count": 14,
     "metadata": {},
     "output_type": "execute_result"
    }
   ],
   "source": [
    "df.describe().round(2)"
   ]
  },
  {
   "cell_type": "code",
   "execution_count": 15,
   "metadata": {
    "colab": {
     "base_uri": "https://localhost:8080/",
     "height": 175
    },
    "id": "E-S3-7WYlhyd",
    "outputId": "f3c5fb73-339b-4b62-c1ac-c9d82ac8eaff",
    "scrolled": true
   },
   "outputs": [
    {
     "data": {
      "text/html": [
       "<div>\n",
       "<style scoped>\n",
       "    .dataframe tbody tr th:only-of-type {\n",
       "        vertical-align: middle;\n",
       "    }\n",
       "\n",
       "    .dataframe tbody tr th {\n",
       "        vertical-align: top;\n",
       "    }\n",
       "\n",
       "    .dataframe thead th {\n",
       "        text-align: right;\n",
       "    }\n",
       "</style>\n",
       "<table border=\"1\" class=\"dataframe\">\n",
       "  <thead>\n",
       "    <tr style=\"text-align: right;\">\n",
       "      <th></th>\n",
       "      <th>Name</th>\n",
       "      <th>Sex</th>\n",
       "      <th>Ticket</th>\n",
       "      <th>Cabin</th>\n",
       "      <th>Embarked</th>\n",
       "    </tr>\n",
       "  </thead>\n",
       "  <tbody>\n",
       "    <tr>\n",
       "      <th>count</th>\n",
       "      <td>889</td>\n",
       "      <td>889</td>\n",
       "      <td>889</td>\n",
       "      <td>202</td>\n",
       "      <td>889</td>\n",
       "    </tr>\n",
       "    <tr>\n",
       "      <th>unique</th>\n",
       "      <td>889</td>\n",
       "      <td>2</td>\n",
       "      <td>680</td>\n",
       "      <td>146</td>\n",
       "      <td>3</td>\n",
       "    </tr>\n",
       "    <tr>\n",
       "      <th>top</th>\n",
       "      <td>Braund, Mr. Owen Harris</td>\n",
       "      <td>male</td>\n",
       "      <td>347082</td>\n",
       "      <td>B96 B98</td>\n",
       "      <td>S</td>\n",
       "    </tr>\n",
       "    <tr>\n",
       "      <th>freq</th>\n",
       "      <td>1</td>\n",
       "      <td>577</td>\n",
       "      <td>7</td>\n",
       "      <td>4</td>\n",
       "      <td>644</td>\n",
       "    </tr>\n",
       "  </tbody>\n",
       "</table>\n",
       "</div>"
      ],
      "text/plain": [
       "                           Name   Sex  Ticket    Cabin Embarked\n",
       "count                       889   889     889      202      889\n",
       "unique                      889     2     680      146        3\n",
       "top     Braund, Mr. Owen Harris  male  347082  B96 B98        S\n",
       "freq                          1   577       7        4      644"
      ]
     },
     "execution_count": 15,
     "metadata": {},
     "output_type": "execute_result"
    }
   ],
   "source": [
    "df.describe(include = ['category','object'])"
   ]
  },
  {
   "cell_type": "code",
   "execution_count": 16,
   "metadata": {
    "colab": {
     "base_uri": "https://localhost:8080/",
     "height": 424
    },
    "id": "1Pd0170PVaon",
    "outputId": "8cbfef1b-387c-46db-97e4-a3be6ee2b380"
   },
   "outputs": [],
   "source": [
    "#columns selected\n",
    "X = df[[\"Pclass\", \"Sex\", \"Age\", \"SibSp\",\"Parch\", \"Fare\", \"Embarked\"]] #features\n",
    "y = df[\"Survived\"] #target variable\n"
   ]
  },
  {
   "cell_type": "markdown",
   "metadata": {},
   "source": [
    "I use get_dummies pandas method to deal with the categorical(not ordinal) variables, I do this setting the *drop_first* parameter as True to remove the redundancies. Note that, in the DataFrame below, there is no columns for Sex_female or Embarked_C, the model will know when it is Embarked_C when Embarked_Q and Embarked_S are 0 for example."
   ]
  },
  {
   "cell_type": "code",
   "execution_count": 17,
   "metadata": {},
   "outputs": [
    {
     "data": {
      "text/html": [
       "<div>\n",
       "<style scoped>\n",
       "    .dataframe tbody tr th:only-of-type {\n",
       "        vertical-align: middle;\n",
       "    }\n",
       "\n",
       "    .dataframe tbody tr th {\n",
       "        vertical-align: top;\n",
       "    }\n",
       "\n",
       "    .dataframe thead th {\n",
       "        text-align: right;\n",
       "    }\n",
       "</style>\n",
       "<table border=\"1\" class=\"dataframe\">\n",
       "  <thead>\n",
       "    <tr style=\"text-align: right;\">\n",
       "      <th></th>\n",
       "      <th>Pclass</th>\n",
       "      <th>Age</th>\n",
       "      <th>SibSp</th>\n",
       "      <th>Parch</th>\n",
       "      <th>Fare</th>\n",
       "      <th>Sex_male</th>\n",
       "      <th>Embarked_Q</th>\n",
       "      <th>Embarked_S</th>\n",
       "    </tr>\n",
       "  </thead>\n",
       "  <tbody>\n",
       "    <tr>\n",
       "      <th>0</th>\n",
       "      <td>3</td>\n",
       "      <td>22.0</td>\n",
       "      <td>1</td>\n",
       "      <td>0</td>\n",
       "      <td>7.2500</td>\n",
       "      <td>1</td>\n",
       "      <td>0</td>\n",
       "      <td>1</td>\n",
       "    </tr>\n",
       "    <tr>\n",
       "      <th>1</th>\n",
       "      <td>1</td>\n",
       "      <td>38.0</td>\n",
       "      <td>1</td>\n",
       "      <td>0</td>\n",
       "      <td>71.2833</td>\n",
       "      <td>0</td>\n",
       "      <td>0</td>\n",
       "      <td>0</td>\n",
       "    </tr>\n",
       "    <tr>\n",
       "      <th>2</th>\n",
       "      <td>3</td>\n",
       "      <td>26.0</td>\n",
       "      <td>0</td>\n",
       "      <td>0</td>\n",
       "      <td>7.9250</td>\n",
       "      <td>0</td>\n",
       "      <td>0</td>\n",
       "      <td>1</td>\n",
       "    </tr>\n",
       "    <tr>\n",
       "      <th>3</th>\n",
       "      <td>1</td>\n",
       "      <td>35.0</td>\n",
       "      <td>1</td>\n",
       "      <td>0</td>\n",
       "      <td>53.1000</td>\n",
       "      <td>0</td>\n",
       "      <td>0</td>\n",
       "      <td>1</td>\n",
       "    </tr>\n",
       "    <tr>\n",
       "      <th>4</th>\n",
       "      <td>3</td>\n",
       "      <td>35.0</td>\n",
       "      <td>0</td>\n",
       "      <td>0</td>\n",
       "      <td>8.0500</td>\n",
       "      <td>1</td>\n",
       "      <td>0</td>\n",
       "      <td>1</td>\n",
       "    </tr>\n",
       "  </tbody>\n",
       "</table>\n",
       "</div>"
      ],
      "text/plain": [
       "   Pclass   Age  SibSp  Parch     Fare  Sex_male  Embarked_Q  Embarked_S\n",
       "0       3  22.0      1      0   7.2500         1           0           1\n",
       "1       1  38.0      1      0  71.2833         0           0           0\n",
       "2       3  26.0      0      0   7.9250         0           0           1\n",
       "3       1  35.0      1      0  53.1000         0           0           1\n",
       "4       3  35.0      0      0   8.0500         1           0           1"
      ]
     },
     "execution_count": 17,
     "metadata": {},
     "output_type": "execute_result"
    }
   ],
   "source": [
    "X = pd.get_dummies(X, drop_first=True)\n",
    "X.head()"
   ]
  },
  {
   "cell_type": "code",
   "execution_count": 18,
   "metadata": {
    "colab": {
     "base_uri": "https://localhost:8080/",
     "height": 607
    },
    "id": "mIyHi2kcVatw",
    "outputId": "4f735381-517f-4d04-a978-9d80b1e7fe76"
   },
   "outputs": [
    {
     "data": {
      "image/png": "[encoded data removed]",
      "text/plain": [
       "<Figure size 720x720 with 9 Axes>"
      ]
     },
     "metadata": {
      "needs_background": "light"
     },
     "output_type": "display_data"
    }
   ],
   "source": [
    "X.hist(xlabelsize=10, ylabelsize=10, figsize=(10, 10));\n"
   ]
  },
  {
   "cell_type": "code",
   "execution_count": 19,
   "metadata": {},
   "outputs": [
    {
     "name": "stdout",
     "output_type": "stream",
     "text": [
      "18.45 %\n"
     ]
    }
   ],
   "source": [
    "num_pass_less_19 = len(X[ (X.Age<=19) ])\n",
    "perc_pass_less_19 = round(num_pass_less_19/len(X)*100,2)\n",
    "\n",
    "print(perc_pass_less_19,\"%\")"
   ]
  },
  {
   "cell_type": "markdown",
   "metadata": {
    "id": "7kvsDfUPhn1k"
   },
   "source": [
    "**Insights**\n",
    "* About 38% of the people in this dataset died in the disaster\n",
    "* There are many missing ages, I may have to apply some imputation technic. But from the available ages we know that the mean age is 26 and 18.45% of the passangers were teenagers or children.\n",
    "* About 65% of the people were male, and as we know, most of the people who died were male, as women and children had priority to be saved.\n",
    "* About 72% of the passengers embarked in Southampton, witch is the city that the Titanic sailed out of."
   ]
  },
  {
   "cell_type": "markdown",
   "metadata": {},
   "source": [
    "### 2. Data Preparation and algorithm choice"
   ]
  },
  {
   "cell_type": "code",
   "execution_count": 20,
   "metadata": {
    "id": "8IGYahrGVaws"
   },
   "outputs": [],
   "source": [
    "from sklearn.pipeline import Pipeline\n",
    "from sklearn.compose import make_column_transformer\n",
    "from sklearn.preprocessing import RobustScaler\n",
    "from sklearn.impute import KNNImputer\n",
    "from sklearn.svm import SVC\n",
    "from sklearn.model_selection import cross_val_score, RepeatedStratifiedKFold, GridSearchCV\n",
    "from sklearn.feature_selection import RFE\n",
    "from sklearn.tree import DecisionTreeClassifier\n",
    "from sklearn.naive_bayes import GaussianNB\n",
    "from sklearn.ensemble import RandomForestClassifier"
   ]
  },
  {
   "cell_type": "markdown",
   "metadata": {},
   "source": [
    "The applied steps for data preparation are:\n",
    "1. Imputation: KNNImputer to impute the missing ages using K-nearest neighbors\n",
    "2. Scaler: RobustScaler to scale the data with robust approach to dealing with outliers\n",
    "3. Feature Selection: RFE, feature ranking with recursive feature elimination, using DecisionTreeClassifier as estimator to score the best features\n",
    "\n",
    "---\n",
    "\n",
    "Three algothms were tested:\n",
    "1. Support Vector Classification\n",
    "2. Gaussian Naive Bayes\n",
    "3. Random Forest Classifier"
   ]
  },
  {
   "cell_type": "markdown",
   "metadata": {},
   "source": [
    "A pipeline with all steps was created. With the GridSeachCV many combinations of hyper parameters were tested to find out which combination of parameters raises the best score."
   ]
  },
  {
   "cell_type": "code",
   "execution_count": 13,
   "metadata": {
    "colab": {
     "base_uri": "https://localhost:8080/"
    },
    "id": "lv3Gc80j0Djj",
    "outputId": "4669f7eb-cea9-48da-c64c-7c3cf8c824fa"
   },
   "outputs": [
    {
     "name": "stdout",
     "output_type": "stream",
     "text": [
      "Fitting 5 folds for each of 432 candidates, totalling 2160 fits\n",
      "{'algorithm__C': 1.5, 'algorithm__kernel': 'poly', 'algorithm__tol': 0.001, 'feature__n_features_to_select': 7, 'imputer__n_neighbors': 8, 'scaler__quantile_range': (10, 90)}\n",
      "0.8268139402018664\n"
     ]
    }
   ],
   "source": [
    "#Support Vector Classification\n",
    "\n",
    "pl = Pipeline(steps = [\n",
    "                      (\"imputer\", KNNImputer()),\n",
    "                      (\"scaler\", RobustScaler()),\n",
    "                       (\"feature\", RFE(estimator=DecisionTreeClassifier())),\n",
    "                       (\"algorithm\", SVC())\n",
    "])\n",
    "\n",
    "parameters = {\"imputer__n_neighbors\":[8, 9, 10],\n",
    "              \"scaler__quantile_range\":[(20,80),(10,90),(25,75)],\n",
    "              \"feature__n_features_to_select\":[ 6, 7, 8],\n",
    "              \"algorithm__tol\":[0.001, 0.0001],\n",
    "              \"algorithm__C\":[1, 1.5],\n",
    "              \"algorithm__kernel\":[\"rbf\", \"linear\", \"poly\", \"sigmoid\"]}\n",
    "\n",
    "grid_search = GridSearchCV(estimator = pl, param_grid = parameters, n_jobs=-1, verbose=2)\n",
    "grid_search.fit(X,y)\n",
    "print(grid_search.best_params_)\n",
    "print(grid_search.best_score_)"
   ]
  },
  {
   "cell_type": "code",
   "execution_count": 17,
   "metadata": {
    "colab": {
     "base_uri": "https://localhost:8080/"
    },
    "id": "Dxoy3Dxc9i2w",
    "outputId": "dbab62f1-a1f4-492e-f65a-b6a8ed6b679e"
   },
   "outputs": [
    {
     "name": "stdout",
     "output_type": "stream",
     "text": [
      "Fitting 5 folds for each of 27 candidates, totalling 135 fits\n",
      "{'feature__n_features_to_select': 7, 'imputer__n_neighbors': 8, 'scaler__quantile_range': (10, 90)}\n",
      "0.7896591125499905\n"
     ]
    }
   ],
   "source": [
    "#Gaussian Naive Bayes\n",
    "\n",
    "pl = Pipeline(steps = [\n",
    "                      (\"imputer\", KNNImputer()),\n",
    "                      (\"scaler\", RobustScaler()),\n",
    "                       (\"feature\", RFE(estimator=DecisionTreeClassifier())),\n",
    "                       (\"algorithm\", GaussianNB())\n",
    "])\n",
    "\n",
    "parameters = {\"imputer__n_neighbors\":[8, 9, 10],\n",
    "              \"feature__n_features_to_select\":[ 6, 7, 8],\n",
    "              \"scaler__quantile_range\":[(20,80),(10,90),(25,75)]}\n",
    "\n",
    "grid_search = GridSearchCV(estimator = pl, param_grid = parameters, n_jobs=-1, verbose=2)\n",
    "grid_search.fit(X,y)\n",
    "print(grid_search.best_params_)\n",
    "print(grid_search.best_score_)"
   ]
  },
  {
   "cell_type": "code",
   "execution_count": 26,
   "metadata": {
    "colab": {
     "base_uri": "https://localhost:8080/"
    },
    "id": "9wFNG0MZBVD4",
    "outputId": "45150d2a-1ec9-4ff5-8b6c-091ed3d60dea"
   },
   "outputs": [
    {
     "name": "stdout",
     "output_type": "stream",
     "text": [
      "Fitting 5 folds for each of 81 candidates, totalling 405 fits\n",
      "{'algorithm__n_estimators': 75, 'feature__n_features_to_select': 8, 'imputer__n_neighbors': 9, 'scaler__quantile_range': (25, 75)}\n",
      "0.8211832666793628\n"
     ]
    }
   ],
   "source": [
    "#RandomForestClassifier\n",
    "\n",
    "pl = Pipeline(steps = [\n",
    "                      (\"imputer\", KNNImputer()),\n",
    "                      (\"scaler\", RobustScaler()),\n",
    "                       (\"feature\", RFE(estimator=DecisionTreeClassifier())),\n",
    "                       (\"algorithm\", RandomForestClassifier())\n",
    "])\n",
    "\n",
    "parameters = {\"imputer__n_neighbors\":[8, 9, 10],\n",
    "              \"feature__n_features_to_select\":[ 6, 7, 8],\n",
    "              \"algorithm__n_estimators\":[25,50,75],\n",
    "              \"scaler__quantile_range\":[(20,80),(10,90),(25,75)]}\n",
    "\n",
    "grid_search = GridSearchCV(estimator = pl, param_grid = parameters, n_jobs=-1, verbose=2)\n",
    "grid_search.fit(X,y)\n",
    "print(grid_search.best_params_)\n",
    "print(grid_search.best_score_)"
   ]
  },
  {
   "cell_type": "markdown",
   "metadata": {},
   "source": [
    "---\n",
    "After finding the best cobination of parameters let's build some models with those parameters and avaliate them one more time with 10-Fold Cross Validation"
   ]
  },
  {
   "cell_type": "code",
   "execution_count": 29,
   "metadata": {
    "colab": {
     "base_uri": "https://localhost:8080/"
    },
    "id": "BL04CiXt1noq",
    "outputId": "2f6c2302-7223-4aa2-d475-9f792be03c64"
   },
   "outputs": [
    {
     "name": "stdout",
     "output_type": "stream",
     "text": [
      "Mean Accuracy: 0.816 (0.042)\n"
     ]
    }
   ],
   "source": [
    "SVC_model = Pipeline(steps = [\n",
    "                      (\"imputer\", KNNImputer(n_neighbors=8)),\n",
    "                      (\"scaler\", RobustScaler(quantile_range=(10,90))),\n",
    "                       (\"feature\", RFE(estimator=DecisionTreeClassifier(),n_features_to_select=7)),\n",
    "                       (\"algorithm\", SVC(C=1.5,kernel = \"poly\",tol = 0.001 ))\n",
    "])\n",
    "\n",
    "cv = RepeatedStratifiedKFold(n_splits=10, n_repeats=3, random_state=1)\n",
    "scores = cross_val_score(SVC_model, X, y, scoring='accuracy', cv=cv)\n",
    "print('Mean Accuracy: %.3f (%.3f)' % (np.mean(scores), np.std(scores)))\n",
    "\n"
   ]
  },
  {
   "cell_type": "code",
   "execution_count": 30,
   "metadata": {},
   "outputs": [
    {
     "name": "stdout",
     "output_type": "stream",
     "text": [
      "Mean Accuracy: 0.784 (0.045)\n"
     ]
    }
   ],
   "source": [
    "GaussianNB_model = Pipeline(steps = [\n",
    "                      (\"imputer\", KNNImputer(n_neighbors=8)),\n",
    "                      (\"scaler\", RobustScaler(quantile_range=(10,90))),\n",
    "                       (\"feature\", RFE(estimator=DecisionTreeClassifier(),n_features_to_select=7)),\n",
    "                       (\"algorithm\", GaussianNB())\n",
    "])\n",
    "\n",
    "cv = RepeatedStratifiedKFold(n_splits=10, n_repeats=3, random_state=1)\n",
    "scores = cross_val_score(GaussianNB_model, X, y, scoring='accuracy', cv=cv)\n",
    "print('Mean Accuracy: %.3f (%.3f)' % (np.mean(scores), np.std(scores)))\n"
   ]
  },
  {
   "cell_type": "code",
   "execution_count": 33,
   "metadata": {},
   "outputs": [
    {
     "name": "stdout",
     "output_type": "stream",
     "text": [
      "Mean Accuracy: 0.812 (0.042)\n"
     ]
    }
   ],
   "source": [
    "RandomForestClassifier_model = Pipeline(steps = [\n",
    "                      (\"imputer\", KNNImputer(n_neighbors=9)),\n",
    "                      (\"scaler\", RobustScaler(quantile_range=(25,75))),\n",
    "                       (\"feature\", RFE(estimator=DecisionTreeClassifier(),n_features_to_select=8)),\n",
    "                       (\"algorithm\", RandomForestClassifier(n_estimators=75))\n",
    "])\n",
    "\n",
    "cv = RepeatedStratifiedKFold(n_splits=10, n_repeats=3, random_state=1)\n",
    "scores = cross_val_score(RandomForestClassifier_model, X, y, scoring='accuracy', cv=cv)\n",
    "print('Mean Accuracy: %.3f (%.3f)' % (np.mean(scores), np.std(scores)))\n"
   ]
  },
  {
   "cell_type": "markdown",
   "metadata": {},
   "source": [
    "---\n",
    "Let's now write a function to create a csv file to submit to kaggle's competition."
   ]
  },
  {
   "cell_type": "code",
   "execution_count": 41,
   "metadata": {
    "id": "5RQPVYKCvZCL"
   },
   "outputs": [],
   "source": [
    "def create_submission(model, filename):\n",
    "    project_dir = os.path.dirname( os.path.dirname( os.path.abspath( \"-\" ) ) )\n",
    "    data_test_dir = os.path.join( os.path.join( project_dir, \"original data\" ), \"test.csv\" )\n",
    "    df_test = pd.read_csv(data_test_dir)\n",
    "\n",
    "    #columns selected\n",
    "    X_test = df_test[[\"Pclass\", \"Sex\", \"Age\", \"SibSp\",\"Parch\", \"Fare\", \"Embarked\"]]\n",
    "    X_test = pd.get_dummies(X_test, drop_first=True)\n",
    "    yhat = model.predict(X_test)\n",
    "    \n",
    "    yhat = pd.Series(yhat, name=\"Survived\")\n",
    "    df_result = pd.concat([df_test[\"PassengerId\"], yhat], axis= 1 )\n",
    "    \n",
    "    file_path = os.path.join( os.path.join( project_dir, \"submissions\" ), filename )\n",
    "    df_result.to_csv(file_path,index=False)"
   ]
  },
  {
   "cell_type": "code",
   "execution_count": 42,
   "metadata": {
    "id": "2us0ICdsugOW"
   },
   "outputs": [],
   "source": [
    "SVC_model.fit(X,y)\n",
    "GaussianNB_model.fit(X,y)\n",
    "RandomForestClassifier_model.fit(X,y)\n",
    "create_submission(SVC_model,\"SVC_submission.csv\")\n",
    "create_submission(GaussianNB_model,\"GaussianNB_submission.csv\")\n",
    "create_submission(RandomForestClassifier_model,\"RandomForestClassifier_submission.csv\")"
   ]
  },
  {
   "cell_type": "markdown",
   "metadata": {},
   "source": [
    "The image below shows the results for the 3 submissions, the only one that reached the goal was the SVC model"
   ]
  },
  {
   "cell_type": "markdown",
   "metadata": {},
   "source": [
    "![submission_scores.jpg](data:image/jpeg;base64,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)"
   ]
  }
 ],
 "metadata": {
  "colab": {
   "name": "TitanicSolution.ipynb",
   "provenance": []
  },
  "kernelspec": {
   "display_name": "Python 3 (ipykernel)",
   "language": "python",
   "name": "python3"
  },
  "language_info": {
   "codemirror_mode": {
    "name": "ipython",
    "version": 3
   },
   "file_extension": ".py",
   "mimetype": "text/x-python",
   "name": "python",
   "nbconvert_exporter": "python",
   "pygments_lexer": "ipython3",
   "version": "3.9.7"
  }
 },
 "nbformat": 4,
 "nbformat_minor": 1
}
