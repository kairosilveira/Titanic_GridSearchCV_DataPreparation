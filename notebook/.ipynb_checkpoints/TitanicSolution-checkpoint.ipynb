{
 "cells": [
  {
   "cell_type": "markdown",
   "metadata": {
    "id": "f2XhKF5RF5FB"
   },
   "source": [
    "# Kaggle's [Titanic competition](https://www.kaggle.com/competitions/titanic) solution.\n",
    "\n",
    "Objective: Beat the score of 0.76555 of acurracy in the predictions of who survives the disaster, and do this using GridSearchCV with Pipeline. This score is obtained by assuming that all men die and women survive. \n",
    "\n",
    "Methodology: In order to get a good score I used several data preparation technics, such as imputation, encoders, feature selection, data scale, changes in the distibution and so on, I also tried a few classifications algorithms. In this project you will see the combination of technics tested that resulted in the best peformance.\n",
    "\n"
   ]
  },
  {
   "cell_type": "markdown",
   "metadata": {
    "id": "iLdZngI_OGnX"
   },
   "source": [
    "### 1. Analysing and understanding the data"
   ]
  },
  {
   "cell_type": "code",
   "execution_count": 2,
   "metadata": {
    "id": "9NeJyB4FOF66"
   },
   "outputs": [],
   "source": [
    "import pandas as pd\n",
    "import numpy as np\n",
    "import os"
   ]
  },
  {
   "cell_type": "code",
   "execution_count": 5,
   "metadata": {},
   "outputs": [],
   "source": [
    "project_dir = os.path.dirname( os.path.dirname( os.path.abspath( \"-\" ) ) )\n",
    "data_dir = os.path.join( os.path.join( project_dir, \"original data\" ), \"train.csv\" )"
   ]
  },
  {
   "cell_type": "code",
   "execution_count": 6,
   "metadata": {
    "colab": {
     "base_uri": "https://localhost:8080/",
     "height": 320
    },
    "id": "0Eu4jr0-JVwD",
    "outputId": "5ce09145-7d5e-44d6-a71c-62f76c4dfde0"
   },
   "outputs": [
    {
     "data": {
      "text/html": [
       "<div>\n",
       "<style scoped>\n",
       "    .dataframe tbody tr th:only-of-type {\n",
       "        vertical-align: middle;\n",
       "    }\n",
       "\n",
       "    .dataframe tbody tr th {\n",
       "        vertical-align: top;\n",
       "    }\n",
       "\n",
       "    .dataframe thead th {\n",
       "        text-align: right;\n",
       "    }\n",
       "</style>\n",
       "<table border=\"1\" class=\"dataframe\">\n",
       "  <thead>\n",
       "    <tr style=\"text-align: right;\">\n",
       "      <th></th>\n",
       "      <th>PassengerId</th>\n",
       "      <th>Survived</th>\n",
       "      <th>Pclass</th>\n",
       "      <th>Name</th>\n",
       "      <th>Sex</th>\n",
       "      <th>Age</th>\n",
       "      <th>SibSp</th>\n",
       "      <th>Parch</th>\n",
       "      <th>Ticket</th>\n",
       "      <th>Fare</th>\n",
       "      <th>Cabin</th>\n",
       "      <th>Embarked</th>\n",
       "    </tr>\n",
       "  </thead>\n",
       "  <tbody>\n",
       "    <tr>\n",
       "      <th>0</th>\n",
       "      <td>1</td>\n",
       "      <td>0</td>\n",
       "      <td>3</td>\n",
       "      <td>Braund, Mr. Owen Harris</td>\n",
       "      <td>male</td>\n",
       "      <td>22.0</td>\n",
       "      <td>1</td>\n",
       "      <td>0</td>\n",
       "      <td>A/5 21171</td>\n",
       "      <td>7.2500</td>\n",
       "      <td>NaN</td>\n",
       "      <td>S</td>\n",
       "    </tr>\n",
       "    <tr>\n",
       "      <th>1</th>\n",
       "      <td>2</td>\n",
       "      <td>1</td>\n",
       "      <td>1</td>\n",
       "      <td>Cumings, Mrs. John Bradley (Florence Briggs Th...</td>\n",
       "      <td>female</td>\n",
       "      <td>38.0</td>\n",
       "      <td>1</td>\n",
       "      <td>0</td>\n",
       "      <td>PC 17599</td>\n",
       "      <td>71.2833</td>\n",
       "      <td>C85</td>\n",
       "      <td>C</td>\n",
       "    </tr>\n",
       "    <tr>\n",
       "      <th>2</th>\n",
       "      <td>3</td>\n",
       "      <td>1</td>\n",
       "      <td>3</td>\n",
       "      <td>Heikkinen, Miss. Laina</td>\n",
       "      <td>female</td>\n",
       "      <td>26.0</td>\n",
       "      <td>0</td>\n",
       "      <td>0</td>\n",
       "      <td>STON/O2. 3101282</td>\n",
       "      <td>7.9250</td>\n",
       "      <td>NaN</td>\n",
       "      <td>S</td>\n",
       "    </tr>\n",
       "    <tr>\n",
       "      <th>3</th>\n",
       "      <td>4</td>\n",
       "      <td>1</td>\n",
       "      <td>1</td>\n",
       "      <td>Futrelle, Mrs. Jacques Heath (Lily May Peel)</td>\n",
       "      <td>female</td>\n",
       "      <td>35.0</td>\n",
       "      <td>1</td>\n",
       "      <td>0</td>\n",
       "      <td>113803</td>\n",
       "      <td>53.1000</td>\n",
       "      <td>C123</td>\n",
       "      <td>S</td>\n",
       "    </tr>\n",
       "    <tr>\n",
       "      <th>4</th>\n",
       "      <td>5</td>\n",
       "      <td>0</td>\n",
       "      <td>3</td>\n",
       "      <td>Allen, Mr. William Henry</td>\n",
       "      <td>male</td>\n",
       "      <td>35.0</td>\n",
       "      <td>0</td>\n",
       "      <td>0</td>\n",
       "      <td>373450</td>\n",
       "      <td>8.0500</td>\n",
       "      <td>NaN</td>\n",
       "      <td>S</td>\n",
       "    </tr>\n",
       "  </tbody>\n",
       "</table>\n",
       "</div>"
      ],
      "text/plain": [
       "   PassengerId  Survived  Pclass  \\\n",
       "0            1         0       3   \n",
       "1            2         1       1   \n",
       "2            3         1       3   \n",
       "3            4         1       1   \n",
       "4            5         0       3   \n",
       "\n",
       "                                                Name     Sex   Age  SibSp  \\\n",
       "0                            Braund, Mr. Owen Harris    male  22.0      1   \n",
       "1  Cumings, Mrs. John Bradley (Florence Briggs Th...  female  38.0      1   \n",
       "2                             Heikkinen, Miss. Laina  female  26.0      0   \n",
       "3       Futrelle, Mrs. Jacques Heath (Lily May Peel)  female  35.0      1   \n",
       "4                           Allen, Mr. William Henry    male  35.0      0   \n",
       "\n",
       "   Parch            Ticket     Fare Cabin Embarked  \n",
       "0      0         A/5 21171   7.2500   NaN        S  \n",
       "1      0          PC 17599  71.2833   C85        C  \n",
       "2      0  STON/O2. 3101282   7.9250   NaN        S  \n",
       "3      0            113803  53.1000  C123        S  \n",
       "4      0            373450   8.0500   NaN        S  "
      ]
     },
     "execution_count": 6,
     "metadata": {},
     "output_type": "execute_result"
    }
   ],
   "source": [
    "df = pd.read_csv(data_dir)\n",
    "df.head()"
   ]
  },
  {
   "cell_type": "code",
   "execution_count": 7,
   "metadata": {
    "colab": {
     "base_uri": "https://localhost:8080/"
    },
    "id": "BKRbnlhfVTSg",
    "outputId": "757372a0-374f-4bbd-cf8f-469f92b19a5a"
   },
   "outputs": [
    {
     "data": {
      "text/plain": [
       "PassengerId    891\n",
       "Survived         2\n",
       "Pclass           3\n",
       "Name           891\n",
       "Sex              2\n",
       "Age             88\n",
       "SibSp            7\n",
       "Parch            7\n",
       "Ticket         681\n",
       "Fare           248\n",
       "Cabin          147\n",
       "Embarked         3\n",
       "dtype: int64"
      ]
     },
     "execution_count": 7,
     "metadata": {},
     "output_type": "execute_result"
    }
   ],
   "source": [
    "df.nunique()"
   ]
  },
  {
   "cell_type": "code",
   "execution_count": 8,
   "metadata": {
    "colab": {
     "base_uri": "https://localhost:8080/"
    },
    "id": "pS22RcrfVZGN",
    "outputId": "17371fc4-7cc2-4936-af0e-abc21be46cb8"
   },
   "outputs": [
    {
     "name": "stdout",
     "output_type": "stream",
     "text": [
      "> PassengerId, Missing: 0 (0.0%)\n",
      "> Survived, Missing: 0 (0.0%)\n",
      "> Pclass, Missing: 0 (0.0%)\n",
      "> Name, Missing: 0 (0.0%)\n",
      "> Sex, Missing: 0 (0.0%)\n",
      "> Age, Missing: 177 (19.9%)\n",
      "> SibSp, Missing: 0 (0.0%)\n",
      "> Parch, Missing: 0 (0.0%)\n",
      "> Ticket, Missing: 0 (0.0%)\n",
      "> Fare, Missing: 0 (0.0%)\n",
      "> Cabin, Missing: 687 (77.1%)\n",
      "> Embarked, Missing: 2 (0.2%)\n"
     ]
    }
   ],
   "source": [
    "#looking for missing values\n",
    "for i in df.columns:\n",
    "  # count number of rows with missing values\n",
    "  n_miss = df[[i]].isnull().sum()\n",
    "  perc = n_miss / df.shape[0] * 100\n",
    "  print('> %s, Missing: %d (%.1f%%)' % (i, n_miss, perc))"
   ]
  },
  {
   "cell_type": "markdown",
   "metadata": {
    "id": "lyXv7EjXVlDH"
   },
   "source": [
    "The first conclusion is that we can know for sure that some columns of the dataset are not important to build a model, they are: \n",
    "\n",
    "\n",
    "*   PassengerId\n",
    "*   Name\n",
    "*   Cabin\n",
    "\n",
    "\n",
    "---\n",
    "\n",
    "\n",
    "We can see that there are a lot of missing values in the **Sex** column and 2 missing in the column **Embarked**. I might apply a imputation technique to deal with the **Sex** column, but, since there are only two missing values in the **Embarked** columns I decided to drop the rows with missing values.\n",
    "\n"
   ]
  },
  {
   "cell_type": "code",
   "execution_count": 9,
   "metadata": {
    "id": "DxoxV6l0VkMp"
   },
   "outputs": [],
   "source": [
    "df.dropna(subset=[\"Embarked\"], inplace=True)"
   ]
  },
  {
   "cell_type": "markdown",
   "metadata": {
    "id": "moziO2nAYeOH"
   },
   "source": [
    "\n",
    "\n",
    "---\n",
    "\n",
    "\n",
    "Now let's start a statistical analysis and select only the relevant columns."
   ]
  },
  {
   "cell_type": "code",
   "execution_count": 11,
   "metadata": {
    "colab": {
     "base_uri": "https://localhost:8080/",
     "height": 300
    },
    "id": "KhDXPHwLYdYp",
    "outputId": "93508902-dbee-4036-b2b4-8dfce188e4de"
   },
   "outputs": [
    {
     "data": {
      "text/html": [
       "<div>\n",
       "<style scoped>\n",
       "    .dataframe tbody tr th:only-of-type {\n",
       "        vertical-align: middle;\n",
       "    }\n",
       "\n",
       "    .dataframe tbody tr th {\n",
       "        vertical-align: top;\n",
       "    }\n",
       "\n",
       "    .dataframe thead th {\n",
       "        text-align: right;\n",
       "    }\n",
       "</style>\n",
       "<table border=\"1\" class=\"dataframe\">\n",
       "  <thead>\n",
       "    <tr style=\"text-align: right;\">\n",
       "      <th></th>\n",
       "      <th>PassengerId</th>\n",
       "      <th>Survived</th>\n",
       "      <th>Pclass</th>\n",
       "      <th>Age</th>\n",
       "      <th>SibSp</th>\n",
       "      <th>Parch</th>\n",
       "      <th>Fare</th>\n",
       "    </tr>\n",
       "  </thead>\n",
       "  <tbody>\n",
       "    <tr>\n",
       "      <th>count</th>\n",
       "      <td>889.0</td>\n",
       "      <td>889.00</td>\n",
       "      <td>889.00</td>\n",
       "      <td>712.00</td>\n",
       "      <td>889.00</td>\n",
       "      <td>889.00</td>\n",
       "      <td>889.00</td>\n",
       "    </tr>\n",
       "    <tr>\n",
       "      <th>mean</th>\n",
       "      <td>446.0</td>\n",
       "      <td>0.38</td>\n",
       "      <td>2.31</td>\n",
       "      <td>29.64</td>\n",
       "      <td>0.52</td>\n",
       "      <td>0.38</td>\n",
       "      <td>32.10</td>\n",
       "    </tr>\n",
       "    <tr>\n",
       "      <th>std</th>\n",
       "      <td>257.0</td>\n",
       "      <td>0.49</td>\n",
       "      <td>0.83</td>\n",
       "      <td>14.49</td>\n",
       "      <td>1.10</td>\n",
       "      <td>0.81</td>\n",
       "      <td>49.70</td>\n",
       "    </tr>\n",
       "    <tr>\n",
       "      <th>min</th>\n",
       "      <td>1.0</td>\n",
       "      <td>0.00</td>\n",
       "      <td>1.00</td>\n",
       "      <td>0.42</td>\n",
       "      <td>0.00</td>\n",
       "      <td>0.00</td>\n",
       "      <td>0.00</td>\n",
       "    </tr>\n",
       "    <tr>\n",
       "      <th>25%</th>\n",
       "      <td>224.0</td>\n",
       "      <td>0.00</td>\n",
       "      <td>2.00</td>\n",
       "      <td>20.00</td>\n",
       "      <td>0.00</td>\n",
       "      <td>0.00</td>\n",
       "      <td>7.90</td>\n",
       "    </tr>\n",
       "    <tr>\n",
       "      <th>50%</th>\n",
       "      <td>446.0</td>\n",
       "      <td>0.00</td>\n",
       "      <td>3.00</td>\n",
       "      <td>28.00</td>\n",
       "      <td>0.00</td>\n",
       "      <td>0.00</td>\n",
       "      <td>14.45</td>\n",
       "    </tr>\n",
       "    <tr>\n",
       "      <th>75%</th>\n",
       "      <td>668.0</td>\n",
       "      <td>1.00</td>\n",
       "      <td>3.00</td>\n",
       "      <td>38.00</td>\n",
       "      <td>1.00</td>\n",
       "      <td>0.00</td>\n",
       "      <td>31.00</td>\n",
       "    </tr>\n",
       "    <tr>\n",
       "      <th>max</th>\n",
       "      <td>891.0</td>\n",
       "      <td>1.00</td>\n",
       "      <td>3.00</td>\n",
       "      <td>80.00</td>\n",
       "      <td>8.00</td>\n",
       "      <td>6.00</td>\n",
       "      <td>512.33</td>\n",
       "    </tr>\n",
       "  </tbody>\n",
       "</table>\n",
       "</div>"
      ],
      "text/plain": [
       "       PassengerId  Survived  Pclass     Age   SibSp   Parch    Fare\n",
       "count        889.0    889.00  889.00  712.00  889.00  889.00  889.00\n",
       "mean         446.0      0.38    2.31   29.64    0.52    0.38   32.10\n",
       "std          257.0      0.49    0.83   14.49    1.10    0.81   49.70\n",
       "min            1.0      0.00    1.00    0.42    0.00    0.00    0.00\n",
       "25%          224.0      0.00    2.00   20.00    0.00    0.00    7.90\n",
       "50%          446.0      0.00    3.00   28.00    0.00    0.00   14.45\n",
       "75%          668.0      1.00    3.00   38.00    1.00    0.00   31.00\n",
       "max          891.0      1.00    3.00   80.00    8.00    6.00  512.33"
      ]
     },
     "execution_count": 11,
     "metadata": {},
     "output_type": "execute_result"
    }
   ],
   "source": [
    "df.describe().round(2)"
   ]
  },
  {
   "cell_type": "code",
   "execution_count": 19,
   "metadata": {
    "colab": {
     "base_uri": "https://localhost:8080/",
     "height": 175
    },
    "id": "E-S3-7WYlhyd",
    "outputId": "f3c5fb73-339b-4b62-c1ac-c9d82ac8eaff",
    "scrolled": true
   },
   "outputs": [
    {
     "data": {
      "text/html": [
       "<div>\n",
       "<style scoped>\n",
       "    .dataframe tbody tr th:only-of-type {\n",
       "        vertical-align: middle;\n",
       "    }\n",
       "\n",
       "    .dataframe tbody tr th {\n",
       "        vertical-align: top;\n",
       "    }\n",
       "\n",
       "    .dataframe thead th {\n",
       "        text-align: right;\n",
       "    }\n",
       "</style>\n",
       "<table border=\"1\" class=\"dataframe\">\n",
       "  <thead>\n",
       "    <tr style=\"text-align: right;\">\n",
       "      <th></th>\n",
       "      <th>Name</th>\n",
       "      <th>Sex</th>\n",
       "      <th>Ticket</th>\n",
       "      <th>Cabin</th>\n",
       "      <th>Embarked</th>\n",
       "    </tr>\n",
       "  </thead>\n",
       "  <tbody>\n",
       "    <tr>\n",
       "      <th>count</th>\n",
       "      <td>889</td>\n",
       "      <td>889</td>\n",
       "      <td>889</td>\n",
       "      <td>202</td>\n",
       "      <td>889</td>\n",
       "    </tr>\n",
       "    <tr>\n",
       "      <th>unique</th>\n",
       "      <td>889</td>\n",
       "      <td>2</td>\n",
       "      <td>680</td>\n",
       "      <td>146</td>\n",
       "      <td>3</td>\n",
       "    </tr>\n",
       "    <tr>\n",
       "      <th>top</th>\n",
       "      <td>Braund, Mr. Owen Harris</td>\n",
       "      <td>male</td>\n",
       "      <td>347082</td>\n",
       "      <td>B96 B98</td>\n",
       "      <td>S</td>\n",
       "    </tr>\n",
       "    <tr>\n",
       "      <th>freq</th>\n",
       "      <td>1</td>\n",
       "      <td>577</td>\n",
       "      <td>7</td>\n",
       "      <td>4</td>\n",
       "      <td>644</td>\n",
       "    </tr>\n",
       "  </tbody>\n",
       "</table>\n",
       "</div>"
      ],
      "text/plain": [
       "                           Name   Sex  Ticket    Cabin Embarked\n",
       "count                       889   889     889      202      889\n",
       "unique                      889     2     680      146        3\n",
       "top     Braund, Mr. Owen Harris  male  347082  B96 B98        S\n",
       "freq                          1   577       7        4      644"
      ]
     },
     "execution_count": 19,
     "metadata": {},
     "output_type": "execute_result"
    }
   ],
   "source": [
    "df.describe(include = ['category','object'])"
   ]
  },
  {
   "cell_type": "code",
   "execution_count": 14,
   "metadata": {
    "colab": {
     "base_uri": "https://localhost:8080/",
     "height": 424
    },
    "id": "1Pd0170PVaon",
    "outputId": "8cbfef1b-387c-46db-97e4-a3be6ee2b380"
   },
   "outputs": [],
   "source": [
    "#columns selected\n",
    "X = df[[\"Pclass\", \"Sex\", \"Age\", \"SibSp\",\"Parch\", \"Fare\", \"Embarked\"]] #features\n",
    "y = df[\"Survived\"] #target variable\n"
   ]
  },
  {
   "cell_type": "markdown",
   "metadata": {},
   "source": [
    "I use get_dummies pandas method to deal with the categorical(not ordinal) variables, I do this setting the *drop_first* parameter as True to remove the redundancies. Note that, in the DataFrame below, there is no columns for Sex_female or Embarked_C, the model will know when it is Embarked_C when Embarked_Q and Embarked_S are 0 for example."
   ]
  },
  {
   "cell_type": "code",
   "execution_count": 31,
   "metadata": {},
   "outputs": [
    {
     "data": {
      "text/html": [
       "<div>\n",
       "<style scoped>\n",
       "    .dataframe tbody tr th:only-of-type {\n",
       "        vertical-align: middle;\n",
       "    }\n",
       "\n",
       "    .dataframe tbody tr th {\n",
       "        vertical-align: top;\n",
       "    }\n",
       "\n",
       "    .dataframe thead th {\n",
       "        text-align: right;\n",
       "    }\n",
       "</style>\n",
       "<table border=\"1\" class=\"dataframe\">\n",
       "  <thead>\n",
       "    <tr style=\"text-align: right;\">\n",
       "      <th></th>\n",
       "      <th>Pclass</th>\n",
       "      <th>Age</th>\n",
       "      <th>SibSp</th>\n",
       "      <th>Parch</th>\n",
       "      <th>Fare</th>\n",
       "      <th>Sex_male</th>\n",
       "      <th>Embarked_Q</th>\n",
       "      <th>Embarked_S</th>\n",
       "    </tr>\n",
       "  </thead>\n",
       "  <tbody>\n",
       "    <tr>\n",
       "      <th>0</th>\n",
       "      <td>3</td>\n",
       "      <td>22.0</td>\n",
       "      <td>1</td>\n",
       "      <td>0</td>\n",
       "      <td>7.2500</td>\n",
       "      <td>1</td>\n",
       "      <td>0</td>\n",
       "      <td>1</td>\n",
       "    </tr>\n",
       "    <tr>\n",
       "      <th>1</th>\n",
       "      <td>1</td>\n",
       "      <td>38.0</td>\n",
       "      <td>1</td>\n",
       "      <td>0</td>\n",
       "      <td>71.2833</td>\n",
       "      <td>0</td>\n",
       "      <td>0</td>\n",
       "      <td>0</td>\n",
       "    </tr>\n",
       "    <tr>\n",
       "      <th>2</th>\n",
       "      <td>3</td>\n",
       "      <td>26.0</td>\n",
       "      <td>0</td>\n",
       "      <td>0</td>\n",
       "      <td>7.9250</td>\n",
       "      <td>0</td>\n",
       "      <td>0</td>\n",
       "      <td>1</td>\n",
       "    </tr>\n",
       "    <tr>\n",
       "      <th>3</th>\n",
       "      <td>1</td>\n",
       "      <td>35.0</td>\n",
       "      <td>1</td>\n",
       "      <td>0</td>\n",
       "      <td>53.1000</td>\n",
       "      <td>0</td>\n",
       "      <td>0</td>\n",
       "      <td>1</td>\n",
       "    </tr>\n",
       "    <tr>\n",
       "      <th>4</th>\n",
       "      <td>3</td>\n",
       "      <td>35.0</td>\n",
       "      <td>0</td>\n",
       "      <td>0</td>\n",
       "      <td>8.0500</td>\n",
       "      <td>1</td>\n",
       "      <td>0</td>\n",
       "      <td>1</td>\n",
       "    </tr>\n",
       "  </tbody>\n",
       "</table>\n",
       "</div>"
      ],
      "text/plain": [
       "   Pclass   Age  SibSp  Parch     Fare  Sex_male  Embarked_Q  Embarked_S\n",
       "0       3  22.0      1      0   7.2500         1           0           1\n",
       "1       1  38.0      1      0  71.2833         0           0           0\n",
       "2       3  26.0      0      0   7.9250         0           0           1\n",
       "3       1  35.0      1      0  53.1000         0           0           1\n",
       "4       3  35.0      0      0   8.0500         1           0           1"
      ]
     },
     "execution_count": 31,
     "metadata": {},
     "output_type": "execute_result"
    }
   ],
   "source": [
    "X = pd.get_dummies(X, drop_first=True)\n",
    "X.head()"
   ]
  },
  {
   "cell_type": "code",
   "execution_count": 20,
   "metadata": {
    "colab": {
     "base_uri": "https://localhost:8080/",
     "height": 607
    },
    "id": "mIyHi2kcVatw",
    "outputId": "4f735381-517f-4d04-a978-9d80b1e7fe76"
   },
   "outputs": [
    {
     "data": {
      "image/png": "[encoded data removed]",
      "text/plain": [
       "<Figure size 720x720 with 9 Axes>"
      ]
     },
     "metadata": {
      "needs_background": "light"
     },
     "output_type": "display_data"
    }
   ],
   "source": [
    "X.hist(xlabelsize=10, ylabelsize=10, figsize=(10, 10));\n"
   ]
  },
  {
   "cell_type": "code",
   "execution_count": 48,
   "metadata": {},
   "outputs": [
    {
     "name": "stdout",
     "output_type": "stream",
     "text": [
      "18.45 %\n"
     ]
    }
   ],
   "source": [
    "num_pass_less_19 = len(X[ (X.Age<=19) ])\n",
    "perc_pass_less_19 = round(num_pass_less_19/len(X)*100,2)\n",
    "\n",
    "print(perc_pass_less_19,\"%\")"
   ]
  },
  {
   "cell_type": "markdown",
   "metadata": {
    "id": "7kvsDfUPhn1k"
   },
   "source": [
    "**Insights**\n",
    "* About 38% of the people in this dataset died in the disaster\n",
    "* There are many missing ages, I may have to apply some imputation technic. But from the available ages we know that the mean age is 26 and 18.45% of the passangers were teenagers or children.\n",
    "* About 65% of the people were male, and as we know, most of the people who died were male, as women and children had priority to be saved.\n",
    "* About 72% of the passengers embarked in Southampton, witch is the city that the Titanic sailed out of."
   ]
  },
  {
   "cell_type": "markdown",
   "metadata": {},
   "source": [
    "### 2. Data Preparation and algorithm choice"
   ]
  },
  {
   "cell_type": "code",
   "execution_count": 49,
   "metadata": {
    "id": "8IGYahrGVaws"
   },
   "outputs": [],
   "source": [
    "from sklearn.pipeline import Pipeline\n",
    "from sklearn.compose import make_column_transformer\n",
    "from sklearn.preprocessing import RobustScaler\n",
    "from sklearn.impute import KNNImputer\n",
    "from sklearn.svm import SVC\n",
    "from sklearn.model_selection import cross_val_score, RepeatedStratifiedKFold, GridSearchCV\n",
    "from sklearn.feature_selection import RFE\n",
    "from sklearn.tree import DecisionTreeClassifier\n",
    "from sklearn.naive_bayes import GaussianNB\n",
    "from sklearn.ensemble import RandomForestClassifier"
   ]
  },
  {
   "cell_type": "markdown",
   "metadata": {},
   "source": [
    "The applied steps for data preparation are:\n",
    "1. Imputation: KNNImputer to impute the missing ages using K-nearest neighbors\n",
    "2. Scaler: RobustScaler to scale the data with robust approach to dealing with outliers\n",
    "3. Feature Selection: RFE, feature ranking with recursive feature elimination, using DecisionTreeClassifier as estimator to score the best features\n",
    "\n",
    "---\n",
    "\n",
    "Three algothms were tested:\n",
    "1. Support Vector Classification\n",
    "2. Gaussian Naive Bayes\n",
    "3. Random Forest Classifier"
   ]
  },
  {
   "cell_type": "markdown",
   "metadata": {},
   "source": [
    "A pipeline with all steps was created. With the GridSeachCV many combinations of hyper parameters were tested to find out which combination of parameters raises the best score."
   ]
  },
  {
   "cell_type": "code",
   "execution_count": 13,
   "metadata": {
    "colab": {
     "base_uri": "https://localhost:8080/"
    },
    "id": "lv3Gc80j0Djj",
    "outputId": "4669f7eb-cea9-48da-c64c-7c3cf8c824fa"
   },
   "outputs": [
    {
     "name": "stdout",
     "output_type": "stream",
     "text": [
      "Fitting 5 folds for each of 432 candidates, totalling 2160 fits\n",
      "{'algorithm__C': 1.5, 'algorithm__kernel': 'poly', 'algorithm__tol': 0.001, 'feature__n_features_to_select': 7, 'imputer__n_neighbors': 8, 'scaler__quantile_range': (10, 90)}\n",
      "0.8268139402018664\n"
     ]
    }
   ],
   "source": [
    "#Support Vector Classification\n",
    "\n",
    "pl = Pipeline(steps = [\n",
    "                      (\"imputer\", KNNImputer()),\n",
    "                      (\"scaler\", RobustScaler()),\n",
    "                       (\"feature\", RFE(estimator=DecisionTreeClassifier())),\n",
    "                       (\"algorithm\", SVC())\n",
    "])\n",
    "\n",
    "parameters = {\"imputer__n_neighbors\":[8, 9, 10],\n",
    "              \"scaler__quantile_range\":[(20,80),(10,90),(25,75)],\n",
    "              \"feature__n_features_to_select\":[ 6, 7, 8],\n",
    "              \"algorithm__tol\":[0.001, 0.0001],\n",
    "              \"algorithm__C\":[1, 1.5],\n",
    "              \"algorithm__kernel\":[\"rbf\", \"linear\", \"poly\", \"sigmoid\"]}\n",
    "\n",
    "grid_search = GridSearchCV(estimator = pl, param_grid = parameters, n_jobs=-1, verbose=2)\n",
    "grid_search.fit(X,y)\n",
    "print(grid_search.best_params_)\n",
    "print(grid_search.best_score_)"
   ]
  },
  {
   "cell_type": "code",
   "execution_count": 17,
   "metadata": {
    "colab": {
     "base_uri": "https://localhost:8080/"
    },
    "id": "Dxoy3Dxc9i2w",
    "outputId": "dbab62f1-a1f4-492e-f65a-b6a8ed6b679e"
   },
   "outputs": [
    {
     "name": "stdout",
     "output_type": "stream",
     "text": [
      "Fitting 5 folds for each of 27 candidates, totalling 135 fits\n",
      "{'feature__n_features_to_select': 7, 'imputer__n_neighbors': 8, 'scaler__quantile_range': (10, 90)}\n",
      "0.7896591125499905\n"
     ]
    }
   ],
   "source": [
    "#Gaussian Naive Bayes\n",
    "\n",
    "pl = Pipeline(steps = [\n",
    "                      (\"imputer\", KNNImputer()),\n",
    "                      (\"scaler\", RobustScaler()),\n",
    "                       (\"feature\", RFE(estimator=DecisionTreeClassifier())),\n",
    "                       (\"algorithm\", GaussianNB())\n",
    "])\n",
    "\n",
    "parameters = {\"imputer__n_neighbors\":[8, 9, 10],\n",
    "              \"feature__n_features_to_select\":[ 6, 7, 8],\n",
    "              \"scaler__quantile_range\":[(20,80),(10,90),(25,75)]}\n",
    "\n",
    "grid_search = GridSearchCV(estimator = pl, param_grid = parameters, n_jobs=-1, verbose=2)\n",
    "grid_search.fit(X,y)\n",
    "print(grid_search.best_params_)\n",
    "print(grid_search.best_score_)"
   ]
  },
  {
   "cell_type": "code",
   "execution_count": 26,
   "metadata": {
    "colab": {
     "base_uri": "https://localhost:8080/"
    },
    "id": "9wFNG0MZBVD4",
    "outputId": "45150d2a-1ec9-4ff5-8b6c-091ed3d60dea"
   },
   "outputs": [
    {
     "name": "stdout",
     "output_type": "stream",
     "text": [
      "Fitting 5 folds for each of 81 candidates, totalling 405 fits\n",
      "{'algorithm__n_estimators': 75, 'feature__n_features_to_select': 8, 'imputer__n_neighbors': 9, 'scaler__quantile_range': (25, 75)}\n",
      "0.8211832666793628\n"
     ]
    }
   ],
   "source": [
    "#RandomForestClassifier\n",
    "\n",
    "pl = Pipeline(steps = [\n",
    "                      (\"imputer\", KNNImputer()),\n",
    "                      (\"scaler\", RobustScaler()),\n",
    "                       (\"feature\", RFE(estimator=DecisionTreeClassifier())),\n",
    "                       (\"algorithm\", RandomForestClassifier())\n",
    "])\n",
    "\n",
    "parameters = {\"imputer__n_neighbors\":[8, 9, 10],\n",
    "              \"feature__n_features_to_select\":[ 6, 7, 8],\n",
    "              \"algorithm__n_estimators\":[25,50,75],\n",
    "              \"scaler__quantile_range\":[(20,80),(10,90),(25,75)]}\n",
    "\n",
    "grid_search = GridSearchCV(estimator = pl, param_grid = parameters, n_jobs=-1, verbose=2)\n",
    "grid_search.fit(X,y)\n",
    "print(grid_search.best_params_)\n",
    "print(grid_search.best_score_)"
   ]
  },
  {
   "cell_type": "code",
   "execution_count": 51,
   "metadata": {
    "colab": {
     "base_uri": "https://localhost:8080/"
    },
    "id": "BL04CiXt1noq",
    "outputId": "2f6c2302-7223-4aa2-d475-9f792be03c64"
   },
   "outputs": [
    {
     "name": "stdout",
     "output_type": "stream",
     "text": [
      "Mean Accuracy: 0.816 (0.041)\n"
     ]
    }
   ],
   "source": [
    "\n",
    "final_model = Pipeline(steps = [\n",
    "                      (\"imputer\", KNNImputer(n_neighbors=8)),\n",
    "                      (\"scaler\", RobustScaler(quantile_range=(10,90))),\n",
    "                       (\"feature\", RFE(estimator=DecisionTreeClassifier(),n_features_to_select=7)),\n",
    "                       (\"algorithm\", SVC(C=1.5,kernel = \"poly\",tol = 0.001 ))\n",
    "])\n",
    "\n",
    "cv = RepeatedStratifiedKFold(n_splits=10, n_repeats=3, random_state=1)\n",
    "scores = cross_val_score(final_model, X, y, scoring='accuracy', cv=cv)\n",
    "print('Mean Accuracy: %.3f (%.3f)' % (np.mean(scores), np.std(scores)))\n",
    "\n"
   ]
  },
  {
   "cell_type": "code",
   "execution_count": 52,
   "metadata": {
    "id": "5RQPVYKCvZCL"
   },
   "outputs": [],
   "source": [
    "def create_submission(model, filename):\n",
    "  df_test = pd.read_csv(\"test.csv\")\n",
    "\n",
    "  #columns selected\n",
    "  X_test = df_test[[\"Pclass\", \"Sex\", \"Age\", \"SibSp\",\"Parch\", \"Fare\", \"Embarked\"]]\n",
    "  X_test = pd.get_dummies(X_test, drop_first=True)\n",
    "  yhat = model.predict(X_test)\n",
    "  df_result = pd.DataFrame()\n",
    "  df_result[\"PassengerId\"] = df_test[\"PassengerId\"]\n",
    "  df_result[\"Survived\"] = yhat\n",
    "  df_result.to_csv(filename,index=False)"
   ]
  },
  {
   "cell_type": "code",
   "execution_count": 16,
   "metadata": {
    "id": "2us0ICdsugOW"
   },
   "outputs": [],
   "source": [
    "final_model.fit(X,y)\n",
    "create_submission(final_model,\"submission.csv\")"
   ]
  },
  {
   "cell_type": "code",
   "execution_count": null,
   "metadata": {
    "id": "0XC86QKx8d5C"
   },
   "outputs": [],
   "source": []
  }
 ],
 "metadata": {
  "colab": {
   "name": "TitanicSolution.ipynb",
   "provenance": []
  },
  "kernelspec": {
   "display_name": "Python 3 (ipykernel)",
   "language": "python",
   "name": "python3"
  },
  "language_info": {
   "codemirror_mode": {
    "name": "ipython",
    "version": 3
   },
   "file_extension": ".py",
   "mimetype": "text/x-python",
   "name": "python",
   "nbconvert_exporter": "python",
   "pygments_lexer": "ipython3",
   "version": "3.9.7"
  }
 },
 "nbformat": 4,
 "nbformat_minor": 1
}
